{
 "cells": [
  {
   "cell_type": "markdown",
   "id": "76fb16e9",
   "metadata": {},
   "source": [
    "# Crawler of Zoominfo.com to get a company information\n",
    "This script gets the information of a company based on zoominfo.com. First it gets the first link from google related to zoominfo.com and the company. Then it scrapes the zoominfo page on the company."
   ]
  },
  {
   "cell_type": "code",
   "execution_count": 230,
   "id": "a81e6e43",
   "metadata": {},
   "outputs": [],
   "source": [
    "import urllib\n",
    "from selenium import webdriver\n",
    "from selenium.webdriver.common.by import By\n",
    "from webdriver_manager.chrome import ChromeDriverManager\n",
    "\n",
    "\n",
    "def company_zoominfo (company_name):\n",
    "    company = urllib.parse.quote_plus(company_name)\n",
    "    url = 'https://www.google.com/search?q=in%3Azoominfo.com+'+company+'+&oq=in%3Azoominfo.com'\n",
    "    \n",
    "    driver = webdriver.Chrome(ChromeDriverManager().install())\n",
    "    ##################################\n",
    "    ##################################    \n",
    "    driver.get(url)\n",
    "    elems = driver.find_elements_by_xpath(\"//a[@href]\")\n",
    "    for elem in elems:\n",
    "        if 'https://www.zoominfo.com/c/' in elem.get_attribute(\"href\"):\n",
    "            ## Getting the FIRST URL from Google that contains zominfo.com\n",
    "            first_url = elem.get_attribute(\"href\")\n",
    "            break\n",
    "    ##################################\n",
    "    ##################################\n",
    "    driver.get(first_url)\n",
    "\n",
    "    description = driver.find_element_by_class_name(\"company-description-text-content\").text\n",
    "    website = driver.find_element(By.XPATH,\"//a[@class='content link']\").text\n",
    "    address = driver.find_elements(By.XPATH,\"//div/span[@class='icon-text-content content']\")[0].text\n",
    "    employees = driver.find_elements(By.XPATH,\"//div/span[@class='icon-text-content content']\")[2].text\n",
    "    revenue = driver.find_elements(By.XPATH,\"//div/span[@class='icon-text-content content']\")[3].text\n",
    "    \n",
    "    driver.quit()\n",
    "\n",
    "    return company_name, first_url, website, address, description, employees, revenue"
   ]
  },
  {
   "cell_type": "markdown",
   "id": "33960e43",
   "metadata": {},
   "source": [
    "# Example"
   ]
  },
  {
   "cell_type": "code",
   "execution_count": 232,
   "id": "c80ad689",
   "metadata": {},
   "outputs": [
    {
     "name": "stderr",
     "output_type": "stream",
     "text": [
      "\n",
      "\n",
      "====== WebDriver manager ======\n",
      "Current google-chrome version is 99.0.4844\n",
      "Get LATEST driver version for 99.0.4844\n",
      "Driver [/Users/nw/.wdm/drivers/chromedriver/mac64/99.0.4844.51/chromedriver] found in cache\n"
     ]
    },
    {
     "data": {
      "text/plain": [
       "('University of Twente',\n",
       " 'https://www.zoominfo.com/c/university-of-twente/355172274',\n",
       " 'www.utwente.nl',\n",
       " 'Postbus 217, Enschede, Overijssel, Netherlands',\n",
       " 'We stand for science and technology, high tech, human touch, education and research that matter. New technology which drives change, innovation and progress inRead More',\n",
       " '1,992',\n",
       " '$445 Million')"
      ]
     },
     "execution_count": 232,
     "metadata": {},
     "output_type": "execute_result"
    }
   ],
   "source": [
    "company_name = \"University of Twente\"\n",
    "\n",
    "company_zoominfo (company_name)"
   ]
  }
 ],
 "metadata": {
  "kernelspec": {
   "display_name": "Python 3",
   "language": "python",
   "name": "python3"
  },
  "language_info": {
   "codemirror_mode": {
    "name": "ipython",
    "version": 3
   },
   "file_extension": ".py",
   "mimetype": "text/x-python",
   "name": "python",
   "nbconvert_exporter": "python",
   "pygments_lexer": "ipython3",
   "version": "3.9.10"
  }
 },
 "nbformat": 4,
 "nbformat_minor": 5
}
