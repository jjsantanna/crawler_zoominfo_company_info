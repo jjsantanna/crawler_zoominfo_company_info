{
 "cells": [
  {
   "cell_type": "markdown",
   "id": "3be53c73",
   "metadata": {},
   "source": [
    "# Crawler zoominfo.com & dnb.com to get a company's information\n",
    "This script gets the information of a company based on zoominfo.com and dnb.com. First it gets the first link from google related to (zoominfo.com OR dnb.com) AND the company. Then it scrapes the page on the company."
   ]
  },
  {
   "cell_type": "markdown",
   "id": "ad3403e3",
   "metadata": {},
   "source": [
    "# FUNCTION based on zoominfo.com"
   ]
  },
  {
   "cell_type": "code",
   "execution_count": 42,
   "id": "e545662e",
   "metadata": {},
   "outputs": [],
   "source": [
    "import urllib\n",
    "from selenium import webdriver\n",
    "from selenium.webdriver.common.by import By\n",
    "from webdriver_manager.chrome import ChromeDriverManager\n",
    "\n",
    "def company_zoominfo (company_name):\n",
    "    first_url=''\n",
    "    company = urllib.parse.quote_plus(company_name)\n",
    "    url = 'https://www.google.com/search?q=in%3Azoominfo.com+'+company+'+&oq=in%3Azoominfo.com'\n",
    "    \n",
    "    driver = webdriver.Chrome(ChromeDriverManager().install())\n",
    "    ##################################\n",
    "    ##################################    \n",
    "    driver.get(url)\n",
    "    elems = driver.find_elements_by_xpath(\"//a[@href]\")\n",
    "    for elem in elems:\n",
    "        if 'https://www.zoominfo.com/c/' in elem.get_attribute(\"href\"):\n",
    "            ## Getting the FIRST URL from Google that contains zominfo.com\n",
    "            first_url = elem.get_attribute(\"href\")\n",
    "            break\n",
    "        else:\n",
    "            continue\n",
    "    \n",
    "    if 'https://www.zoominfo.com/c/' not in first_url:\n",
    "        driver.quit()\n",
    "        return(\"Google didn't find \"+ company_name+ \" at zoominfo.com!\")\n",
    "    ##################################\n",
    "    ##################################\n",
    "    else:\n",
    "        driver.get(first_url)\n",
    "\n",
    "        try:\n",
    "            website = driver.find_element(By.XPATH,\"//a[@class='content link']\").text\n",
    "            address = driver.find_elements(By.XPATH,\"//div/span[@class='icon-text-content content']\")[0].text\n",
    "            employees = driver.find_elements(By.XPATH,\"//div/span[@class='icon-text-content content']\")[2].text\n",
    "            revenue = driver.find_elements(By.XPATH,\"//div/span[@class='icon-text-content content']\")[3].text\n",
    "        except:\n",
    "            address = \"\"\n",
    "            website = \"\"\n",
    "            employees = \"\"\n",
    "            revenue = \"\"\n",
    "\n",
    "        driver.quit()\n",
    "\n",
    "        return company_name, first_url, website, address, employees, revenue"
   ]
  },
  {
   "cell_type": "markdown",
   "id": "39c3205b",
   "metadata": {},
   "source": [
    "# FUNCTION based on dnb.com"
   ]
  },
  {
   "cell_type": "code",
   "execution_count": 43,
   "id": "6622662f",
   "metadata": {},
   "outputs": [],
   "source": [
    "import urllib\n",
    "from selenium import webdriver\n",
    "from selenium.webdriver.common.by import By\n",
    "from webdriver_manager.chrome import ChromeDriverManager\n",
    "\n",
    "def company_dnb (company_name):\n",
    "    first_url=''\n",
    "    company = urllib.parse.quote_plus(company_name)\n",
    "    url = 'https://www.google.com/search?q=in%3Adnb.com+'+company+'+&oq=in%3Adnb.com'\n",
    "\n",
    "    driver = webdriver.Chrome(ChromeDriverManager().install())\n",
    "    ##################################\n",
    "    ##################################    \n",
    "    driver.get(url)\n",
    "    elems = driver.find_elements_by_xpath(\"//a[@href]\")\n",
    "    for elem in elems:\n",
    "        if 'https://www.dnb.com/business-directory/company-profiles' in elem.get_attribute(\"href\"):\n",
    "            ## Getting the FIRST URL from Google that contains zominfo.com\n",
    "            first_url = elem.get_attribute(\"href\")\n",
    "            break\n",
    "        else:\n",
    "            continue\n",
    "    \n",
    "    if 'https://www.dnb.com/business-directory/company-profiles' not in first_url:\n",
    "        driver.quit()\n",
    "        return(\"Google didn't find \"+ company_name+ \" at dnb.com!\")\n",
    "    \n",
    "    else:\n",
    "        driver.get(first_url)\n",
    "\n",
    "        try:\n",
    "            address = driver.find_elements(By.XPATH,\"//div[@class='col-md-11']/span/span\")[1].text\n",
    "            website = driver.find_elements(By.XPATH,\"//div[@class='col-md-11']/span/span\")[3].text\n",
    "            employees = driver.find_elements(By.XPATH,\"//div[@class='col-md-11']/span/span\")[4].text\n",
    "            revenue = driver.find_elements(By.XPATH,\"//div[@class='col-md-11']/span/span\")[6].text\n",
    "        except:\n",
    "            address = \"\"\n",
    "            website = \"\"\n",
    "            employees = \"\"\n",
    "            revenue = \"\"\n",
    "\n",
    "        driver.quit()\n",
    "\n",
    "        return company_name, first_url, website, address, employees, revenue\n",
    "   "
   ]
  },
  {
   "cell_type": "markdown",
   "id": "73d56e40",
   "metadata": {},
   "source": [
    "Example, comparison between dnb and zoominfo"
   ]
  },
  {
   "cell_type": "code",
   "execution_count": 44,
   "id": "537cf925",
   "metadata": {},
   "outputs": [
    {
     "name": "stderr",
     "output_type": "stream",
     "text": [
      "\n",
      "\n",
      "====== WebDriver manager ======\n",
      "Current google-chrome version is 100.0.4896\n",
      "Get LATEST driver version for 100.0.4896\n",
      "Driver [/Users/nw/.wdm/drivers/chromedriver/mac64/100.0.4896.60/chromedriver] found in cache\n",
      "\n",
      "\n",
      "====== WebDriver manager ======\n",
      "Current google-chrome version is 100.0.4896\n",
      "Get LATEST driver version for 100.0.4896\n",
      "Driver [/Users/nw/.wdm/drivers/chromedriver/mac64/100.0.4896.60/chromedriver] found in cache\n"
     ]
    },
    {
     "name": "stdout",
     "output_type": "stream",
     "text": [
      "# DNB\n",
      "('Google', 'https://www.dnb.com/business-directory/company-profiles.google_llc.f4ec1c3d05baae3ee36b8bd2f282b210.html', 'www.google.com', '1600 Amphitheatre Pkwy Mountain View, CA, 94043-1351 United States See other locations', '250', '$2.15 billion')\n",
      "\n",
      "\n",
      "# ZOOMINFO\n",
      "('Google', 'https://www.zoominfo.com/c/google-inc/16400573', 'www.google.com', '1600 Amphitheatre Parkway, Mountain View, California, 94043, United States', '156,500', '$257 Billion')\n"
     ]
    }
   ],
   "source": [
    "company_name = \"Google\"\n",
    "\n",
    "dnb = company_dnb (company_name)\n",
    "zoominfo = company_zoominfo (company_name)\n",
    "\n",
    "print(\"# DNB\")\n",
    "print(dnb)\n",
    "\n",
    "print()\n",
    "print()\n",
    "\n",
    "print(\"# ZOOMINFO\")\n",
    "print(zoominfo)"
   ]
  },
  {
   "cell_type": "markdown",
   "id": "56ce3240",
   "metadata": {},
   "source": [
    "# Country to Flag!"
   ]
  },
  {
   "cell_type": "code",
   "execution_count": 51,
   "id": "670cfd48",
   "metadata": {},
   "outputs": [],
   "source": [
    "# !pip install pycountry\n",
    "import pycountry\n",
    "\n",
    "def country2flag (str_country):\n",
    "    \n",
    "    try:\n",
    "        return pycountry.countries.search_fuzzy(str_country)[0].flag\n",
    "    except:\n",
    "        return '' "
   ]
  },
  {
   "cell_type": "markdown",
   "id": "c81962df",
   "metadata": {},
   "source": [
    "example:"
   ]
  },
  {
   "cell_type": "code",
   "execution_count": 52,
   "id": "f63339f9",
   "metadata": {},
   "outputs": [
    {
     "data": {
      "text/plain": [
       "'🇧🇷'"
      ]
     },
     "execution_count": 52,
     "metadata": {},
     "output_type": "execute_result"
    }
   ],
   "source": [
    "country2flag('Brazil')"
   ]
  },
  {
   "cell_type": "markdown",
   "id": "63448c2a",
   "metadata": {},
   "source": [
    "# The actual function Company to Country Flag (of Company Headquarter)\n",
    "It requires the previously defined functions: company_zoominfo(),company_dnb(), and country2flag()"
   ]
  },
  {
   "cell_type": "code",
   "execution_count": 53,
   "id": "8f2b3bb6",
   "metadata": {},
   "outputs": [],
   "source": [
    "def company2flag(company_name):\n",
    "    try:\n",
    "        country = company_zoominfo (company_name)[3].split(\" \")[-1]\n",
    "    except:\n",
    "        country = company_dnb (company_name)[3].split(\" \")[-1]\n",
    "\n",
    "    return country2flag(country)"
   ]
  },
  {
   "cell_type": "code",
   "execution_count": 56,
   "id": "11f36143",
   "metadata": {},
   "outputs": [
    {
     "name": "stderr",
     "output_type": "stream",
     "text": [
      "\n",
      "\n",
      "====== WebDriver manager ======\n",
      "Current google-chrome version is 100.0.4896\n",
      "Get LATEST driver version for 100.0.4896\n",
      "Driver [/Users/nw/.wdm/drivers/chromedriver/mac64/100.0.4896.60/chromedriver] found in cache\n"
     ]
    },
    {
     "data": {
      "text/plain": [
       "'🇳🇱'"
      ]
     },
     "execution_count": 56,
     "metadata": {},
     "output_type": "execute_result"
    }
   ],
   "source": [
    "company2flag(\"Northwave Security\")"
   ]
  },
  {
   "cell_type": "code",
   "execution_count": 50,
   "id": "c805c577",
   "metadata": {},
   "outputs": [
    {
     "name": "stderr",
     "output_type": "stream",
     "text": [
      "\n",
      "\n",
      "====== WebDriver manager ======\n",
      "Current google-chrome version is 100.0.4896\n",
      "Get LATEST driver version for 100.0.4896\n",
      "Driver [/Users/nw/.wdm/drivers/chromedriver/mac64/100.0.4896.60/chromedriver] found in cache\n"
     ]
    },
    {
     "data": {
      "text/plain": [
       "'🇧🇷'"
      ]
     },
     "execution_count": 50,
     "metadata": {},
     "output_type": "execute_result"
    }
   ],
   "source": [
    "company2flag(\"Banco do Brasil\")"
   ]
  }
 ],
 "metadata": {
  "kernelspec": {
   "display_name": "Python 3",
   "language": "python",
   "name": "python3"
  },
  "language_info": {
   "codemirror_mode": {
    "name": "ipython",
    "version": 3
   },
   "file_extension": ".py",
   "mimetype": "text/x-python",
   "name": "python",
   "nbconvert_exporter": "python",
   "pygments_lexer": "ipython3",
   "version": "3.9.10"
  }
 },
 "nbformat": 4,
 "nbformat_minor": 5
}
